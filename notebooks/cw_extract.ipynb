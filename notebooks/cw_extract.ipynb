{
 "cells": [
  {
   "cell_type": "code",
   "execution_count": 6,
   "id": "821f1ea6",
   "metadata": {},
   "outputs": [],
   "source": [
    "import kaggle as k\n",
    "import os"
   ]
  },
  {
   "cell_type": "code",
   "execution_count": 7,
   "id": "dd6141dc",
   "metadata": {},
   "outputs": [],
   "source": [
    "# URL Settings\n",
    "url = 'jancsg/cybersecurity-suspicious-web-threat-interactions'"
   ]
  },
  {
   "cell_type": "code",
   "execution_count": 8,
   "id": "d0efd1b4",
   "metadata": {},
   "outputs": [],
   "source": [
    "# Directory Settings\n",
    "directory = \"dataset/cloudwatch\"\n",
    "\n",
    "# Check if directory exists, else create it\n",
    "if not os.path.exists(directory):\n",
    "    os.makedirs(directory)"
   ]
  },
  {
   "cell_type": "code",
   "execution_count": 9,
   "id": "1c9897a4",
   "metadata": {},
   "outputs": [
    {
     "name": "stdout",
     "output_type": "stream",
     "text": [
      "Dataset URL: https://www.kaggle.com/datasets/jancsg/cybersecurity-suspicious-web-threat-interactions\n"
     ]
    }
   ],
   "source": [
    "# Call API to download data\n",
    "k.api.dataset_download_files(url, path=directory, unzip=True)"
   ]
  },
  {
   "cell_type": "code",
   "execution_count": 10,
   "id": "c22c1133",
   "metadata": {},
   "outputs": [
    {
     "name": "stdout",
     "output_type": "stream",
     "text": [
      "C:\\Users\\JOJS_\\Desktop\\dataset\\cloudwatch\\CloudWatch_Traffic_Web_Attack.csv exists.\n",
      "Dataset jancsg/cybersecurity-suspicious-web-threat-interactions has been downloaded successfully!\n"
     ]
    }
   ],
   "source": [
    "# Check if file exists, else print error code & exit\n",
    "file_path = r'C:\\Users\\JOJS_\\Desktop\\dataset\\cloudwatch\\CloudWatch_Traffic_Web_Attack.csv'\n",
    "\n",
    "if not os.path.isfile(file_path):\n",
    "    print(f\"{file_path} does not exist.\")\n",
    "    #to-do: create file or handle error\n",
    "else:\n",
    "    print(f\"{file_path} exists.\") # File exists\n",
    "    print(f'Dataset {url} has been downloaded successfully!')"
   ]
  },
  {
   "cell_type": "markdown",
   "id": "2dff4175",
   "metadata": {},
   "source": [
    "### Source:\n",
    "\n",
    "* https://www.kaggle.com/datasets/jancsg/cybersecurity-suspicious-web-threat-interactions"
   ]
  },
  {
   "cell_type": "markdown",
   "id": "251310ab",
   "metadata": {},
   "source": [
    "***"
   ]
  }
 ],
 "metadata": {
  "kernelspec": {
   "display_name": "Python 3 (ipykernel)",
   "language": "python",
   "name": "python3"
  },
  "language_info": {
   "codemirror_mode": {
    "name": "ipython",
    "version": 3
   },
   "file_extension": ".py",
   "mimetype": "text/x-python",
   "name": "python",
   "nbconvert_exporter": "python",
   "pygments_lexer": "ipython3",
   "version": "3.11.4"
  }
 },
 "nbformat": 4,
 "nbformat_minor": 5
}
